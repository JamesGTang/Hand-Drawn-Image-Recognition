{
 "cells": [
  {
   "cell_type": "markdown",
   "metadata": {},
   "source": [
    "CNN Model final verson"
   ]
  },
  {
   "cell_type": "code",
   "execution_count": 1,
   "metadata": {},
   "outputs": [
    {
     "name": "stderr",
     "output_type": "stream",
     "text": [
      "Using TensorFlow backend.\n"
     ]
    }
   ],
   "source": [
    "import cv2\n",
    "import numpy as np\n",
    "import os\n",
    "import pandas as pd\n",
    "import matplotlib.pyplot as plt\n",
    "import tensorflow as tf\n",
    "import tflearn\n",
    "from sklearn.model_selection import GridSearchCV\n",
    "from keras.models import Sequential\n",
    "from keras.layers import Dense\n",
    "from keras.wrappers.scikit_learn import KerasClassifier\n",
    "from tflearn.layers.conv import conv_2d, max_pool_2d, avg_pool_2d\n",
    "from tflearn.layers.core import input_data, dropout, fully_connected\n",
    "from tflearn.layers.estimator import regression\n",
    "from tflearn.data_augmentation import ImageAugmentation\n",
    "\n",
    "TRAIN_DIR_PRE = '../datasets/train_images_preprocessed_new1.npy'\n",
    "TRAIN_LABEL_DIR = '../datasets/train_labels.csv'\n",
    "TEST_DIR_PRE = '../datasets/test_images_preprocessed_new1.npy'\n",
    "IMG_SIZE = 35\n",
    "LR = 1e-4"
   ]
  },
  {
   "cell_type": "code",
   "execution_count": 2,
   "metadata": {},
   "outputs": [
    {
     "data": {
      "text/plain": [
       "LabelBinarizer(neg_label=0, pos_label=1, sparse_output=False)"
      ]
     },
     "execution_count": 2,
     "metadata": {},
     "output_type": "execute_result"
    }
   ],
   "source": [
    "#Name for categories\n",
    "cate = ['sink','pear','moustache','nose','skateboard','penguin'\n",
    "              ,'peanut','skull','panda','paintbrush','nail','apple',\n",
    "              'rifle','mug','sailboat','pineapple','spoon','rabbit',\n",
    "              'shovel','rollerskates','screwdriver','scorpion','rhinoceros'\n",
    "              ,'pool','octagon','pillow','parrot','squiggle','mouth',\n",
    "               'empty','pencil']\n",
    "categories = {0:'apple',1:'empty',2:'moustache', 3:'mouth', 4:'mug', 5:'nail', 6:'nose'\\\n",
    "              ,7:'octagon', 8:'paintbrush', 9:'panda', 10:'parrot',11:'peanut',\\\n",
    "              12:'pear', 13:'pencil', 14:'penguin',15:'pillow',16:'pineapple',17:'pool'\\\n",
    "              ,18:'rabbit', 19:'rhinoceros',20:'rifle',21:'rollerskates',22:'sailboat',\\\n",
    "              23:'scorpion',24:'screwdriver', 25:'shovel', 26:'sink', 27:'skateboard',\\\n",
    "              28:'skull',29:'spoon',30:'squiggle'}\n",
    "from sklearn import preprocessing\n",
    "#This will give a 1-of-k coding scheme with alphbat sequence\n",
    "lb = preprocessing.LabelBinarizer()\n",
    "lb.fit(cate)"
   ]
  },
  {
   "cell_type": "code",
   "execution_count": 3,
   "metadata": {},
   "outputs": [],
   "source": [
    "#Notice here preprocessed image as input\n",
    "train_raw = np.load(TRAIN_DIR_PRE, encoding = 'latin1')\n",
    "train_label = np.array(pd.read_csv(TRAIN_LABEL_DIR, delimiter=\",\"))\n",
    "final_test = np.load(TEST_DIR_PRE,encoding='latin1')\n",
    "\n",
    "train_label = train_label[:,1]\n",
    "train_data = []\n",
    "for i in range(len(train_label)):\n",
    "    encoded = lb.transform([train_label[i]])\n",
    "    train_data.append([np.array(train_raw[:,1][i]), encoded[0]])\n",
    "\n",
    "#Split train data into train, validation and test data\n",
    "train = train_data[:8000]\n",
    "valid = train_data[8000:9000]\n",
    "test = train_data[9000:]"
   ]
  },
  {
   "cell_type": "code",
   "execution_count": 4,
   "metadata": {},
   "outputs": [],
   "source": [
    "#reshaping data\n",
    "train_x = np.array([i[0] for i in train]).reshape(-1, IMG_SIZE, IMG_SIZE, 1)\n",
    "train_y = [i[1] for i in train]\n",
    "train_y = np.reshape(train_y,(-1,31))\n",
    "\n",
    "\n",
    "valid_x = np.array([i[0] for i in valid]).reshape(-1, IMG_SIZE, IMG_SIZE, 1)\n",
    "valid_y = np.array([i[1] for i in valid]).reshape(-1,31)\n",
    "\n",
    "test_x = np.array([i[0] for i in test]).reshape(-1, IMG_SIZE, IMG_SIZE, 1)\n",
    "test_y = np.array([i[1] for i in test]).reshape(-1,31)\n",
    "\n",
    "#the shape of preprocessed test set is (10000,2) idx 0: img, idx 1:id\n",
    "final_test = final_test[:,1]\n",
    "final_test_x = np.array([i for i in final_test]).reshape(-1,IMG_SIZE,IMG_SIZE,1)"
   ]
  },
  {
   "cell_type": "code",
   "execution_count": 33,
   "metadata": {},
   "outputs": [],
   "source": [
    "def create_model(dp_rate, fl_size, ln_rate, nb_fr):\n",
    "    tf.reset_default_graph()\n",
    "    img_aug = ImageAugmentation()\n",
    "    img_aug.add_random_flip_leftright()\n",
    "    img_aug.add_random_rotation(max_angle=45.0)\n",
    "    #img_aug.add_random_flip_updown()\n",
    "    #img_aug.add_random_90degrees_rotation(rotations=[0, 1, 2, 3])\n",
    "\n",
    "    convent = input_data(shape = [None, IMG_SIZE, IMG_SIZE, 1],name = 'input',data_augmentation=img_aug)\n",
    "\n",
    "    convent = conv_2d(convent, nb_filter = nb_fr[0], filter_size = 2, activation = 'relu',padding='same',regularizer='L2')\n",
    "    convent = avg_pool_2d(convent, 2)\n",
    "    convent = conv_2d(convent, nb_filter = nb_fr[0], filter_size = 2, activation = 'relu',padding='same',regularizer='L2')    \n",
    "    convent = avg_pool_2d(convent, 2)\n",
    "\n",
    "    convent = conv_2d(convent, nb_filter = nb_fr[1], filter_size = fl_size, activation = 'relu',padding='same',regularizer='L2')\n",
    "    convent = avg_pool_2d(convent, 2)\n",
    "    convent = conv_2d(convent, nb_filter = nb_fr[1], filter_size = fl_size, activation = 'relu',padding='same',regularizer='L2')\n",
    "    convent = avg_pool_2d(convent, 2)\n",
    "\n",
    "    convent = conv_2d(convent, nb_filter = nb_fr[2], filter_size = fl_size, activation = 'relu',padding='same',regularizer='L2')\n",
    "    convent = avg_pool_2d(convent, 2)\n",
    "    convent = conv_2d(convent, nb_filter = nb_fr[2], filter_size = fl_size, activation = 'relu',padding='same',regularizer='L2')\n",
    "    convent = avg_pool_2d(convent, 2)\n",
    "\n",
    "    convent = fully_connected(convent, 1024, activation = 'relu')\n",
    "    convent = dropout(convent, dp_rate)\n",
    "    \n",
    "    convent = fully_connected(convent, 1024, activation = 'relu')\n",
    "    convent = dropout(convent, dp_rate)\n",
    "\n",
    "    convent = fully_connected(convent, 31, activation ='softmax')\n",
    "    convent = regression(convent, optimizer = 'Adam', learning_rate = ln_rate, loss='categorical_crossentropy', name = 'target')\n",
    "\n",
    "    model = tflearn.DNN(convent, tensorboard_dir = 'log')\n",
    "    return model"
   ]
  },
  {
   "cell_type": "code",
   "execution_count": 87,
   "metadata": {},
   "outputs": [
    {
     "name": "stdout",
     "output_type": "stream",
     "text": [
      "Training Step: 6249  | total loss: \u001b[1m\u001b[32m0.45474\u001b[0m\u001b[0m | time: 27.519s\n",
      "| Adam | epoch: 050 | loss: 0.45474 - acc: 0.8615 -- iter: 7936/8000\n",
      "Training Step: 6250  | total loss: \u001b[1m\u001b[32m0.44903\u001b[0m\u001b[0m | time: 28.743s\n",
      "| Adam | epoch: 050 | loss: 0.44903 - acc: 0.8645 | val_loss: 0.97691 - val_acc: 0.7660 -- iter: 8000/8000\n",
      "--\n"
     ]
    }
   ],
   "source": [
    "#model= create_model(0.4, 3, 0.0005, [64,128,256,512])\n",
    "model.fit(train_x, train_y, n_epoch =1, validation_set = (valid_x,valid_y),\n",
    "              snapshot_step=200, show_metric=True)"
   ]
  },
  {
   "cell_type": "code",
   "execution_count": 79,
   "metadata": {},
   "outputs": [
    {
     "name": "stdout",
     "output_type": "stream",
     "text": [
      "INFO:tensorflow:/home/ubuntu/comp551/kaggle/classify-doodles/code/77+ is not in all_model_checkpoint_paths. Manually adding it.\n"
     ]
    }
   ],
   "source": [
    "model.save('77+')"
   ]
  },
  {
   "cell_type": "code",
   "execution_count": 86,
   "metadata": {},
   "outputs": [
    {
     "name": "stdout",
     "output_type": "stream",
     "text": [
      "5\n",
      "              precision    recall  f1-score   support\n",
      "\n",
      "       apple       0.94      0.79      0.86        43\n",
      "       empty       0.80      0.85      0.82        33\n",
      "   moustache       0.71      0.73      0.72        44\n",
      "       mouth       0.82      0.96      0.89        57\n",
      "         mug       0.73      0.87      0.79        31\n",
      "        nail       0.84      0.71      0.77        45\n",
      "        nose       0.83      0.73      0.78        26\n",
      "     octagon       0.89      0.83      0.86        47\n",
      "  paintbrush       0.77      0.80      0.78        25\n",
      "       panda       0.78      0.61      0.68        23\n",
      "      parrot       0.31      0.36      0.33        11\n",
      "      peanut       0.65      0.62      0.63        21\n",
      "        pear       0.90      0.64      0.75        28\n",
      "      pencil       0.85      0.88      0.86        25\n",
      "     penguin       0.63      0.76      0.69        29\n",
      "      pillow       0.69      0.75      0.72        24\n",
      "   pineapple       0.71      0.96      0.82        47\n",
      "        pool       0.70      0.60      0.65        52\n",
      "      rabbit       0.82      0.72      0.77        43\n",
      "  rhinoceros       0.75      0.47      0.58        19\n",
      "       rifle       0.57      0.76      0.65        37\n",
      "rollerskates       0.78      0.90      0.84        31\n",
      "    sailboat       0.73      1.00      0.85        41\n",
      "    scorpion       0.88      0.80      0.84        35\n",
      " screwdriver       0.70      0.41      0.52        17\n",
      "      shovel       0.67      0.74      0.70        19\n",
      "        sink       0.81      0.79      0.80        28\n",
      "  skateboard       0.90      0.74      0.81        47\n",
      "       skull       0.83      0.95      0.89        37\n",
      "       spoon       0.54      0.50      0.52        14\n",
      "    squiggle       0.67      0.29      0.40        21\n",
      "\n",
      " avg / total       0.77      0.76      0.76      1000\n",
      "\n"
     ]
    }
   ],
   "source": [
    "from sklearn import datasets, svm, metrics\n",
    "pred = model.predict(test_x).argmax(axis = -1)\n",
    "true = test_y.argmax(axis = -1)\n",
    "from sklearn.metrics import classification_report\n",
    "names = ['apple','empty','moustache','mouth','mug','nail','nose','octagon','paintbrush','panda','parrot','peanut',\n",
    "         'pear','pencil','penguin','pillow','pineapple','pool','rabbit','rhinoceros','rifle','rollerskates','sailboat',\n",
    "         'scorpion','screwdriver','shovel','sink','skateboard','skull','spoon','squiggle']\n",
    "print(len(names[0]))\n",
    "print(classification_report(true, pred, target_names=names))"
   ]
  },
  {
   "cell_type": "code",
   "execution_count": 84,
   "metadata": {},
   "outputs": [
    {
     "name": "stdout",
     "output_type": "stream",
     "text": [
      "0.77\n"
     ]
    }
   ],
   "source": [
    "acc = 0\n",
    "wrong = []\n",
    "for num, data in enumerate(test):\n",
    "    img_num = data[1]\n",
    "    img_data = data[0]\n",
    "  \n",
    "    orig = img_data.reshape(IMG_SIZE, IMG_SIZE)\n",
    "    data = img_data.reshape(IMG_SIZE, IMG_SIZE, 1)\n",
    "  \n",
    "\n",
    "    model_out = model.predict([data])[0]  \n",
    "    prediction = model_out.argmax(axis=-1)\n",
    "  \n",
    "    true = img_num.argmax(axis=-1)\n",
    "    if(prediction == true): acc+=1\n",
    "    else: wrong.append([num, true, prediction])\n",
    "result = acc/(len(test))\n",
    "print(result)"
   ]
  },
  {
   "cell_type": "code",
   "execution_count": 50,
   "metadata": {},
   "outputs": [],
   "source": [
    "pred_test = model.predict(final_test_x[:3000]).argmax(axis=-1)\n",
    "pred_test_p2 = model.predict(final_test_x[3000:6000]).argmax(axis=-1)\n",
    "pred_test_p3 = model.predict(final_test_x[6000:]).argmax(axis=-1)\n",
    "pred_test = np.hstack([pred_test,pred_test_p2,pred_test_p3])"
   ]
  },
  {
   "cell_type": "code",
   "execution_count": 51,
   "metadata": {},
   "outputs": [],
   "source": [
    "import csv\n",
    "with open(\"../output/submit_77+stable.csv\",\"w\") as f:\n",
    "    wt = csv.writer(f,delimiter=',')\n",
    "    wt.writerow(['Id','Category'])\n",
    "    for idx,i in enumerate(pred_test):\n",
    "        wt.writerow([str(idx),str(categories.get(i))])"
   ]
  },
  {
   "cell_type": "code",
   "execution_count": 94,
   "metadata": {},
   "outputs": [
    {
     "data": {
      "image/png": "[encoded data removed]",
      "text/plain": [
       "<Figure size 576x576 with 25 Axes>"
      ]
     },
     "metadata": {},
     "output_type": "display_data"
    }
   ],
   "source": [
    "imgs = []\n",
    "for num, data in enumerate(train_label):\n",
    "    if(data =='squiggle'):\n",
    "        img = train_data[num][0]\n",
    "        imgs.append(img)\n",
    "w=10\n",
    "h=10\n",
    "columns = 5\n",
    "rows = 5\n",
    "fig=plt.figure(figsize=(8, 8))\n",
    "for i in range(1, columns*rows +1):\n",
    "    img = imgs[i].reshape(IMG_SIZE,IMG_SIZE)\n",
    "    fig.add_subplot(rows, columns, i)\n",
    "    plt.imshow(img)\n",
    "plt.show()\n"
   ]
  },
  {
   "cell_type": "code",
   "execution_count": 12,
   "metadata": {},
   "outputs": [],
   "source": [
    "dropout_rate = [ 0.3, 0.5, 0.7]\n",
    "learning_rate = [1e-4]\n",
    "filter_size = [2, 3, 4]\n",
    "nb_filter = [[64,128,256]]\n",
    "activation = ['relu']\n",
    "epoch = [30, 50, 70]"
   ]
  },
  {
   "cell_type": "code",
   "execution_count": 13,
   "metadata": {},
   "outputs": [
    {
     "name": "stdout",
     "output_type": "stream",
     "text": [
      "Training Step: 37  | total loss: \u001b[1m\u001b[32m3.18845\u001b[0m\u001b[0m | time: 3.061s\n",
      "\u001b[2K\r",
      "| Adam | epoch: 001 | loss: 3.18845 - acc: 0.1564 -- iter: 2368/8000\n"
     ]
    },
    {
     "ename": "KeyboardInterrupt",
     "evalue": "",
     "output_type": "error",
     "traceback": [
      "\u001b[0;31m---------------------------------------------------------------------------\u001b[0m",
      "\u001b[0;31mKeyboardInterrupt\u001b[0m                         Traceback (most recent call last)",
      "\u001b[0;32m<ipython-input-13-21dd494e2611>\u001b[0m in \u001b[0;36m<module>\u001b[0;34m()\u001b[0m\n\u001b[1;32m      7\u001b[0m                     \u001b[0mmodel_name\u001b[0m \u001b[0;34m=\u001b[0m \u001b[0;34m'[dp:'\u001b[0m \u001b[0;34m+\u001b[0m\u001b[0mstr\u001b[0m\u001b[0;34m(\u001b[0m\u001b[0mdp\u001b[0m\u001b[0;34m)\u001b[0m \u001b[0;34m+\u001b[0m \u001b[0;34m'- lr:'\u001b[0m \u001b[0;34m+\u001b[0m\u001b[0mstr\u001b[0m\u001b[0;34m(\u001b[0m\u001b[0mlr\u001b[0m\u001b[0;34m)\u001b[0m \u001b[0;34m+\u001b[0m \u001b[0;34m'-fs:'\u001b[0m \u001b[0;34m+\u001b[0m\u001b[0mstr\u001b[0m\u001b[0;34m(\u001b[0m\u001b[0mfs\u001b[0m\u001b[0;34m)\u001b[0m \u001b[0;34m+\u001b[0m \u001b[0;34m'-nb:'\u001b[0m \u001b[0;34m+\u001b[0m \u001b[0mstr\u001b[0m\u001b[0;34m(\u001b[0m\u001b[0mnb\u001b[0m\u001b[0;34m)\u001b[0m \u001b[0;34m+\u001b[0m\u001b[0;34m'-ep'\u001b[0m \u001b[0;34m+\u001b[0m \u001b[0mstr\u001b[0m\u001b[0;34m(\u001b[0m\u001b[0mep\u001b[0m\u001b[0;34m)\u001b[0m \u001b[0;34m+\u001b[0m\u001b[0;34m'].model'\u001b[0m\u001b[0;34m\u001b[0m\u001b[0m\n\u001b[1;32m      8\u001b[0m                     \u001b[0mmodel\u001b[0m\u001b[0;34m=\u001b[0m \u001b[0mcreate_model\u001b[0m\u001b[0;34m(\u001b[0m\u001b[0mdp\u001b[0m\u001b[0;34m,\u001b[0m \u001b[0mfs\u001b[0m\u001b[0;34m,\u001b[0m \u001b[0mlr\u001b[0m\u001b[0;34m,\u001b[0m \u001b[0mnb\u001b[0m\u001b[0;34m)\u001b[0m\u001b[0;34m\u001b[0m\u001b[0m\n\u001b[0;32m----> 9\u001b[0;31m                     \u001b[0mmodel\u001b[0m\u001b[0;34m.\u001b[0m\u001b[0mfit\u001b[0m\u001b[0;34m(\u001b[0m\u001b[0mtrain_x\u001b[0m\u001b[0;34m,\u001b[0m \u001b[0mtrain_y\u001b[0m\u001b[0;34m,\u001b[0m \u001b[0mn_epoch\u001b[0m \u001b[0;34m=\u001b[0m\u001b[0mep\u001b[0m\u001b[0;34m,\u001b[0m \u001b[0mvalidation_set\u001b[0m \u001b[0;34m=\u001b[0m \u001b[0;34m(\u001b[0m\u001b[0mvalid_x\u001b[0m\u001b[0;34m,\u001b[0m\u001b[0mvalid_y\u001b[0m\u001b[0;34m)\u001b[0m\u001b[0;34m,\u001b[0m\u001b[0msnapshot_step\u001b[0m\u001b[0;34m=\u001b[0m\u001b[0;36m200\u001b[0m\u001b[0;34m,\u001b[0m \u001b[0mshow_metric\u001b[0m\u001b[0;34m=\u001b[0m\u001b[0;32mTrue\u001b[0m\u001b[0;34m)\u001b[0m\u001b[0;34m\u001b[0m\u001b[0m\n\u001b[0m\u001b[1;32m     10\u001b[0m                     \u001b[0mmodel\u001b[0m\u001b[0;34m.\u001b[0m\u001b[0msave\u001b[0m\u001b[0;34m(\u001b[0m\u001b[0mmodel_name\u001b[0m\u001b[0;34m)\u001b[0m\u001b[0;34m\u001b[0m\u001b[0m\n\u001b[1;32m     11\u001b[0m                     \u001b[0mresult\u001b[0m\u001b[0;34m.\u001b[0m\u001b[0mappend\u001b[0m\u001b[0;34m(\u001b[0m\u001b[0;34m[\u001b[0m\u001b[0mmodel_name\u001b[0m\u001b[0;34m,\u001b[0m \u001b[0mmodel\u001b[0m\u001b[0;34m.\u001b[0m\u001b[0mevaluate\u001b[0m\u001b[0;34m(\u001b[0m\u001b[0mtest_x\u001b[0m\u001b[0;34m,\u001b[0m \u001b[0mtest_y\u001b[0m\u001b[0;34m)\u001b[0m\u001b[0;34m]\u001b[0m\u001b[0;34m)\u001b[0m\u001b[0;34m\u001b[0m\u001b[0m\n",
      "\u001b[0;32m~/anaconda3/envs/tensorflow_p36/lib/python3.6/site-packages/tflearn/models/dnn.py\u001b[0m in \u001b[0;36mfit\u001b[0;34m(self, X_inputs, Y_targets, n_epoch, validation_set, show_metric, batch_size, shuffle, snapshot_epoch, snapshot_step, excl_trainops, validation_batch_size, run_id, callbacks)\u001b[0m\n\u001b[1;32m    214\u001b[0m                          \u001b[0mexcl_trainops\u001b[0m\u001b[0;34m=\u001b[0m\u001b[0mexcl_trainops\u001b[0m\u001b[0;34m,\u001b[0m\u001b[0;34m\u001b[0m\u001b[0m\n\u001b[1;32m    215\u001b[0m                          \u001b[0mrun_id\u001b[0m\u001b[0;34m=\u001b[0m\u001b[0mrun_id\u001b[0m\u001b[0;34m,\u001b[0m\u001b[0;34m\u001b[0m\u001b[0m\n\u001b[0;32m--> 216\u001b[0;31m                          callbacks=callbacks)\n\u001b[0m\u001b[1;32m    217\u001b[0m \u001b[0;34m\u001b[0m\u001b[0m\n\u001b[1;32m    218\u001b[0m     \u001b[0;32mdef\u001b[0m \u001b[0mfit_batch\u001b[0m\u001b[0;34m(\u001b[0m\u001b[0mself\u001b[0m\u001b[0;34m,\u001b[0m \u001b[0mX_inputs\u001b[0m\u001b[0;34m,\u001b[0m \u001b[0mY_targets\u001b[0m\u001b[0;34m)\u001b[0m\u001b[0;34m:\u001b[0m\u001b[0;34m\u001b[0m\u001b[0m\n",
      "\u001b[0;32m~/anaconda3/envs/tensorflow_p36/lib/python3.6/site-packages/tflearn/helpers/trainer.py\u001b[0m in \u001b[0;36mfit\u001b[0;34m(self, feed_dicts, n_epoch, val_feed_dicts, show_metric, snapshot_step, snapshot_epoch, shuffle_all, dprep_dict, daug_dict, excl_trainops, run_id, callbacks)\u001b[0m\n\u001b[1;32m    337\u001b[0m                                                        \u001b[0;34m(\u001b[0m\u001b[0mbool\u001b[0m\u001b[0;34m(\u001b[0m\u001b[0mself\u001b[0m\u001b[0;34m.\u001b[0m\u001b[0mbest_checkpoint_path\u001b[0m\u001b[0;34m)\u001b[0m \u001b[0;34m|\u001b[0m \u001b[0msnapshot_epoch\u001b[0m\u001b[0;34m)\u001b[0m\u001b[0;34m,\u001b[0m\u001b[0;34m\u001b[0m\u001b[0m\n\u001b[1;32m    338\u001b[0m                                                        \u001b[0msnapshot_step\u001b[0m\u001b[0;34m,\u001b[0m\u001b[0;34m\u001b[0m\u001b[0m\n\u001b[0;32m--> 339\u001b[0;31m                                                        show_metric)\n\u001b[0m\u001b[1;32m    340\u001b[0m \u001b[0;34m\u001b[0m\u001b[0m\n\u001b[1;32m    341\u001b[0m                             \u001b[0;31m# Update training state\u001b[0m\u001b[0;34m\u001b[0m\u001b[0;34m\u001b[0m\u001b[0m\n",
      "\u001b[0;32m~/anaconda3/envs/tensorflow_p36/lib/python3.6/site-packages/tflearn/helpers/trainer.py\u001b[0m in \u001b[0;36m_train\u001b[0;34m(self, training_step, snapshot_epoch, snapshot_step, show_metric)\u001b[0m\n\u001b[1;32m    816\u001b[0m         \u001b[0mtflearn\u001b[0m\u001b[0;34m.\u001b[0m\u001b[0mis_training\u001b[0m\u001b[0;34m(\u001b[0m\u001b[0;32mTrue\u001b[0m\u001b[0;34m,\u001b[0m \u001b[0msession\u001b[0m\u001b[0;34m=\u001b[0m\u001b[0mself\u001b[0m\u001b[0;34m.\u001b[0m\u001b[0msession\u001b[0m\u001b[0;34m)\u001b[0m\u001b[0;34m\u001b[0m\u001b[0m\n\u001b[1;32m    817\u001b[0m         _, train_summ_str = self.session.run([self.train, self.summ_op],\n\u001b[0;32m--> 818\u001b[0;31m                                              feed_batch)\n\u001b[0m\u001b[1;32m    819\u001b[0m \u001b[0;34m\u001b[0m\u001b[0m\n\u001b[1;32m    820\u001b[0m         \u001b[0;31m# Retrieve loss value from summary string\u001b[0m\u001b[0;34m\u001b[0m\u001b[0;34m\u001b[0m\u001b[0m\n",
      "\u001b[0;32m~/anaconda3/envs/tensorflow_p36/lib/python3.6/site-packages/tensorflow/python/client/session.py\u001b[0m in \u001b[0;36mrun\u001b[0;34m(self, fetches, feed_dict, options, run_metadata)\u001b[0m\n\u001b[1;32m    885\u001b[0m     \u001b[0;32mtry\u001b[0m\u001b[0;34m:\u001b[0m\u001b[0;34m\u001b[0m\u001b[0m\n\u001b[1;32m    886\u001b[0m       result = self._run(None, fetches, feed_dict, options_ptr,\n\u001b[0;32m--> 887\u001b[0;31m                          run_metadata_ptr)\n\u001b[0m\u001b[1;32m    888\u001b[0m       \u001b[0;32mif\u001b[0m \u001b[0mrun_metadata\u001b[0m\u001b[0;34m:\u001b[0m\u001b[0;34m\u001b[0m\u001b[0m\n\u001b[1;32m    889\u001b[0m         \u001b[0mproto_data\u001b[0m \u001b[0;34m=\u001b[0m \u001b[0mtf_session\u001b[0m\u001b[0;34m.\u001b[0m\u001b[0mTF_GetBuffer\u001b[0m\u001b[0;34m(\u001b[0m\u001b[0mrun_metadata_ptr\u001b[0m\u001b[0;34m)\u001b[0m\u001b[0;34m\u001b[0m\u001b[0m\n",
      "\u001b[0;32m~/anaconda3/envs/tensorflow_p36/lib/python3.6/site-packages/tensorflow/python/client/session.py\u001b[0m in \u001b[0;36m_run\u001b[0;34m(self, handle, fetches, feed_dict, options, run_metadata)\u001b[0m\n\u001b[1;32m   1108\u001b[0m     \u001b[0;32mif\u001b[0m \u001b[0mfinal_fetches\u001b[0m \u001b[0;32mor\u001b[0m \u001b[0mfinal_targets\u001b[0m \u001b[0;32mor\u001b[0m \u001b[0;34m(\u001b[0m\u001b[0mhandle\u001b[0m \u001b[0;32mand\u001b[0m \u001b[0mfeed_dict_tensor\u001b[0m\u001b[0;34m)\u001b[0m\u001b[0;34m:\u001b[0m\u001b[0;34m\u001b[0m\u001b[0m\n\u001b[1;32m   1109\u001b[0m       results = self._do_run(handle, final_targets, final_fetches,\n\u001b[0;32m-> 1110\u001b[0;31m                              feed_dict_tensor, options, run_metadata)\n\u001b[0m\u001b[1;32m   1111\u001b[0m     \u001b[0;32melse\u001b[0m\u001b[0;34m:\u001b[0m\u001b[0;34m\u001b[0m\u001b[0m\n\u001b[1;32m   1112\u001b[0m       \u001b[0mresults\u001b[0m \u001b[0;34m=\u001b[0m \u001b[0;34m[\u001b[0m\u001b[0;34m]\u001b[0m\u001b[0;34m\u001b[0m\u001b[0m\n",
      "\u001b[0;32m~/anaconda3/envs/tensorflow_p36/lib/python3.6/site-packages/tensorflow/python/client/session.py\u001b[0m in \u001b[0;36m_do_run\u001b[0;34m(self, handle, target_list, fetch_list, feed_dict, options, run_metadata)\u001b[0m\n\u001b[1;32m   1284\u001b[0m     \u001b[0;32mif\u001b[0m \u001b[0mhandle\u001b[0m \u001b[0;32mis\u001b[0m \u001b[0;32mNone\u001b[0m\u001b[0;34m:\u001b[0m\u001b[0;34m\u001b[0m\u001b[0m\n\u001b[1;32m   1285\u001b[0m       return self._do_call(_run_fn, feeds, fetches, targets, options,\n\u001b[0;32m-> 1286\u001b[0;31m                            run_metadata)\n\u001b[0m\u001b[1;32m   1287\u001b[0m     \u001b[0;32melse\u001b[0m\u001b[0;34m:\u001b[0m\u001b[0;34m\u001b[0m\u001b[0m\n\u001b[1;32m   1288\u001b[0m       \u001b[0;32mreturn\u001b[0m \u001b[0mself\u001b[0m\u001b[0;34m.\u001b[0m\u001b[0m_do_call\u001b[0m\u001b[0;34m(\u001b[0m\u001b[0m_prun_fn\u001b[0m\u001b[0;34m,\u001b[0m \u001b[0mhandle\u001b[0m\u001b[0;34m,\u001b[0m \u001b[0mfeeds\u001b[0m\u001b[0;34m,\u001b[0m \u001b[0mfetches\u001b[0m\u001b[0;34m)\u001b[0m\u001b[0;34m\u001b[0m\u001b[0m\n",
      "\u001b[0;32m~/anaconda3/envs/tensorflow_p36/lib/python3.6/site-packages/tensorflow/python/client/session.py\u001b[0m in \u001b[0;36m_do_call\u001b[0;34m(self, fn, *args)\u001b[0m\n\u001b[1;32m   1290\u001b[0m   \u001b[0;32mdef\u001b[0m \u001b[0m_do_call\u001b[0m\u001b[0;34m(\u001b[0m\u001b[0mself\u001b[0m\u001b[0;34m,\u001b[0m \u001b[0mfn\u001b[0m\u001b[0;34m,\u001b[0m \u001b[0;34m*\u001b[0m\u001b[0margs\u001b[0m\u001b[0;34m)\u001b[0m\u001b[0;34m:\u001b[0m\u001b[0;34m\u001b[0m\u001b[0m\n\u001b[1;32m   1291\u001b[0m     \u001b[0;32mtry\u001b[0m\u001b[0;34m:\u001b[0m\u001b[0;34m\u001b[0m\u001b[0m\n\u001b[0;32m-> 1292\u001b[0;31m       \u001b[0;32mreturn\u001b[0m \u001b[0mfn\u001b[0m\u001b[0;34m(\u001b[0m\u001b[0;34m*\u001b[0m\u001b[0margs\u001b[0m\u001b[0;34m)\u001b[0m\u001b[0;34m\u001b[0m\u001b[0m\n\u001b[0m\u001b[1;32m   1293\u001b[0m     \u001b[0;32mexcept\u001b[0m \u001b[0merrors\u001b[0m\u001b[0;34m.\u001b[0m\u001b[0mOpError\u001b[0m \u001b[0;32mas\u001b[0m \u001b[0me\u001b[0m\u001b[0;34m:\u001b[0m\u001b[0;34m\u001b[0m\u001b[0m\n\u001b[1;32m   1294\u001b[0m       \u001b[0mmessage\u001b[0m \u001b[0;34m=\u001b[0m \u001b[0mcompat\u001b[0m\u001b[0;34m.\u001b[0m\u001b[0mas_text\u001b[0m\u001b[0;34m(\u001b[0m\u001b[0me\u001b[0m\u001b[0;34m.\u001b[0m\u001b[0mmessage\u001b[0m\u001b[0;34m)\u001b[0m\u001b[0;34m\u001b[0m\u001b[0m\n",
      "\u001b[0;32m~/anaconda3/envs/tensorflow_p36/lib/python3.6/site-packages/tensorflow/python/client/session.py\u001b[0m in \u001b[0;36m_run_fn\u001b[0;34m(feed_dict, fetch_list, target_list, options, run_metadata)\u001b[0m\n\u001b[1;32m   1275\u001b[0m       \u001b[0mself\u001b[0m\u001b[0;34m.\u001b[0m\u001b[0m_extend_graph\u001b[0m\u001b[0;34m(\u001b[0m\u001b[0;34m)\u001b[0m\u001b[0;34m\u001b[0m\u001b[0m\n\u001b[1;32m   1276\u001b[0m       return self._call_tf_sessionrun(\n\u001b[0;32m-> 1277\u001b[0;31m           options, feed_dict, fetch_list, target_list, run_metadata)\n\u001b[0m\u001b[1;32m   1278\u001b[0m \u001b[0;34m\u001b[0m\u001b[0m\n\u001b[1;32m   1279\u001b[0m     \u001b[0;32mdef\u001b[0m \u001b[0m_prun_fn\u001b[0m\u001b[0;34m(\u001b[0m\u001b[0mhandle\u001b[0m\u001b[0;34m,\u001b[0m \u001b[0mfeed_dict\u001b[0m\u001b[0;34m,\u001b[0m \u001b[0mfetch_list\u001b[0m\u001b[0;34m)\u001b[0m\u001b[0;34m:\u001b[0m\u001b[0;34m\u001b[0m\u001b[0m\n",
      "\u001b[0;32m~/anaconda3/envs/tensorflow_p36/lib/python3.6/site-packages/tensorflow/python/client/session.py\u001b[0m in \u001b[0;36m_call_tf_sessionrun\u001b[0;34m(self, options, feed_dict, fetch_list, target_list, run_metadata)\u001b[0m\n\u001b[1;32m   1365\u001b[0m     return tf_session.TF_SessionRun_wrapper(\n\u001b[1;32m   1366\u001b[0m         \u001b[0mself\u001b[0m\u001b[0;34m.\u001b[0m\u001b[0m_session\u001b[0m\u001b[0;34m,\u001b[0m \u001b[0moptions\u001b[0m\u001b[0;34m,\u001b[0m \u001b[0mfeed_dict\u001b[0m\u001b[0;34m,\u001b[0m \u001b[0mfetch_list\u001b[0m\u001b[0;34m,\u001b[0m \u001b[0mtarget_list\u001b[0m\u001b[0;34m,\u001b[0m\u001b[0;34m\u001b[0m\u001b[0m\n\u001b[0;32m-> 1367\u001b[0;31m         run_metadata)\n\u001b[0m\u001b[1;32m   1368\u001b[0m \u001b[0;34m\u001b[0m\u001b[0m\n\u001b[1;32m   1369\u001b[0m   \u001b[0;32mdef\u001b[0m \u001b[0m_call_tf_sessionprun\u001b[0m\u001b[0;34m(\u001b[0m\u001b[0mself\u001b[0m\u001b[0;34m,\u001b[0m \u001b[0mhandle\u001b[0m\u001b[0;34m,\u001b[0m \u001b[0mfeed_dict\u001b[0m\u001b[0;34m,\u001b[0m \u001b[0mfetch_list\u001b[0m\u001b[0;34m)\u001b[0m\u001b[0;34m:\u001b[0m\u001b[0;34m\u001b[0m\u001b[0m\n",
      "\u001b[0;31mKeyboardInterrupt\u001b[0m: "
     ]
    }
   ],
   "source": [
    "result =[]\n",
    "for dp in dropout_rate:\n",
    "    for fs in filter_size:\n",
    "        for lr in learning_rate:\n",
    "            for nb in nb_filter:\n",
    "                for ep in epoch:\n",
    "                    model_name = '[dp:' +str(dp) + '- lr:' +str(lr) + '-fs:' +str(fs) + '-nb:' + str(nb) +'-ep' + str(ep) +'].model'\n",
    "                    model= create_model(dp, fs, lr, nb)\n",
    "                    model.fit(train_x, train_y, n_epoch =ep, validation_set = (valid_x,valid_y),snapshot_step=200, show_metric=True) \n",
    "                    model.save(model_name)\n",
    "                    result.append([model_name, model.evaluate(test_x, test_y)])"
   ]
  },
  {
   "cell_type": "code",
   "execution_count": 15,
   "metadata": {},
   "outputs": [
    {
     "name": "stdout",
     "output_type": "stream",
     "text": [
      "['[dp:0.3- lr:0.0001-fs:2-nb:[64, 128, 256]-ep30].model', [0.659000002861023]]\n",
      "['[dp:0.3- lr:0.0001-fs:2-nb:[64, 128, 256]-ep50].model', [0.6929999995231628]]\n",
      "['[dp:0.3- lr:0.0001-fs:2-nb:[64, 128, 256]-ep70].model', [0.7330000019073486]]\n",
      "['[dp:0.3- lr:0.0001-fs:3-nb:[64, 128, 256]-ep30].model', [0.7010000019073487]]\n",
      "['[dp:0.3- lr:0.0001-fs:3-nb:[64, 128, 256]-ep50].model', [0.738999997138977]]\n",
      "['[dp:0.3- lr:0.0001-fs:3-nb:[64, 128, 256]-ep70].model', [0.7489999985694885]]\n",
      "['[dp:0.3- lr:0.0001-fs:4-nb:[64, 128, 256]-ep30].model', [0.6880000019073487]]\n",
      "['[dp:0.3- lr:0.0001-fs:4-nb:[64, 128, 256]-ep50].model', [0.7150000004768372]]\n",
      "['[dp:0.3- lr:0.0001-fs:4-nb:[64, 128, 256]-ep70].model', [0.7270000009536743]]\n",
      "['[dp:0.5- lr:0.0001-fs:2-nb:[64, 128, 256]-ep30].model', [0.6990000019073487]]\n",
      "['[dp:0.5- lr:0.0001-fs:2-nb:[64, 128, 256]-ep50].model', [0.7230000009536743]]\n",
      "['[dp:0.5- lr:0.0001-fs:2-nb:[64, 128, 256]-ep70].model', [0.733999997138977]]\n",
      "['[dp:0.5- lr:0.0001-fs:3-nb:[64, 128, 256]-ep30].model', [0.7170000019073486]]\n",
      "['[dp:0.5- lr:0.0001-fs:3-nb:[64, 128, 256]-ep50].model', [0.7350000009536743]]\n",
      "['[dp:0.5- lr:0.0001-fs:3-nb:[64, 128, 256]-ep70].model', [0.751999997138977]]\n",
      "['[dp:0.5- lr:0.0001-fs:4-nb:[64, 128, 256]-ep30].model', [0.7140000019073486]]\n",
      "['[dp:0.5- lr:0.0001-fs:4-nb:[64, 128, 256]-ep50].model', [0.7219999985694885]]\n",
      "['[dp:0.5- lr:0.0001-fs:4-nb:[64, 128, 256]-ep70].model', [0.7310000009536743]]\n",
      "['[dp:0.7- lr:0.0001-fs:2-nb:[64, 128, 256]-ep30].model', [0.7059999995231628]]\n"
     ]
    }
   ],
   "source": [
    "for element in result:\n",
    "    print(element)"
   ]
  },
  {
   "cell_type": "code",
   "execution_count": null,
   "metadata": {},
   "outputs": [],
   "source": [
    "def getmodelName(dp_rate, fl_size, ln_rate, nb_fr):\n",
    "    return '[dp:' +str(dp) + '- lr:' +str(lr) + '-fs:' +str(fs) + '-nb:' + str(nb) +'-ep' + str(ep) +'].model'"
   ]
  },
  {
   "cell_type": "code",
   "execution_count": null,
   "metadata": {},
   "outputs": [],
   "source": []
  }
 ],
 "metadata": {
  "kernelspec": {
   "display_name": "Python 3",
   "language": "python",
   "name": "python3"
  },
  "language_info": {
   "codemirror_mode": {
    "name": "ipython",
    "version": 3
   },
   "file_extension": ".py",
   "mimetype": "text/x-python",
   "name": "python",
   "nbconvert_exporter": "python",
   "pygments_lexer": "ipython3",
   "version": "3.6.4"
  }
 },
 "nbformat": 4,
 "nbformat_minor": 2
}
